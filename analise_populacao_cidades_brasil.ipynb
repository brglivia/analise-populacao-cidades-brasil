{
 "cells": [
  {
   "cell_type": "markdown",
   "id": "33402b36-4a3d-4e17-9712-3e83da4ad057",
   "metadata": {},
   "source": [
    "# Análise Estatística da População de Cidades Brasileiras com mais de 100 mil habitantes\n",
    "Objetivo: Realizar uma análise das medidas estatísticas no conjunto de dados de cidades brasileiras com mais de 100 mil habitantes. "
   ]
  },
  {
   "cell_type": "code",
   "execution_count": 2,
   "id": "c888c0b7-1be2-4ac9-9e46-1d61dc6cad3d",
   "metadata": {},
   "outputs": [],
   "source": [
    "# Importando a biblioteca necessária\n",
    "import pandas as pd"
   ]
  },
  {
   "cell_type": "markdown",
   "id": "799c5cfd-2b7f-430d-ab9d-5476b15fce8e",
   "metadata": {},
   "source": [
    "## Leitura de Dados"
   ]
  },
  {
   "cell_type": "code",
   "execution_count": 4,
   "id": "e0fa034f-4a57-4619-b078-cde6344fefb0",
   "metadata": {},
   "outputs": [],
   "source": [
    "# Lendo os dados diretamente da Wikipedia\n",
    "url = 'https://pt.wikipedia.org/wiki/Lista_de_munic%C3%ADpios_do_Brasil_acima_de_cem_mil_habitantes'\n",
    "dados = pd.read_html(url)\n",
    "dados_populacao = dados[0]"
   ]
  },
  {
   "cell_type": "code",
   "execution_count": 5,
   "id": "8a882c64-3e5c-4828-a313-8aec05b1d36a",
   "metadata": {},
   "outputs": [
    {
     "data": {
      "text/plain": [
       "'https://pt.wikipedia.org/wiki/Lista_de_munic%C3%ADpios_do_Brasil_acima_de_cem_mil_habitantes'"
      ]
     },
     "execution_count": 5,
     "metadata": {},
     "output_type": "execute_result"
    }
   ],
   "source": [
    "'https://pt.wikipedia.org/wiki/Lista_de_munic%C3%ADpios_do_Brasil_acima_de_cem_mil_habitantes'"
   ]
  },
  {
   "cell_type": "code",
   "execution_count": 6,
   "id": "d7a1ce8a-534c-475e-98c9-6a10cd8054a7",
   "metadata": {},
   "outputs": [],
   "source": [
    "# Renomeando as colunas para facilitar o uso\n",
    "dados_populacao.columns = ['ranking', 'municipio', 'uf', 'populacao']"
   ]
  },
  {
   "cell_type": "code",
   "execution_count": 7,
   "id": "f92ad117-fd77-4b15-8f07-3d2d69851dec",
   "metadata": {},
   "outputs": [
    {
     "data": {
      "text/html": [
       "<div>\n",
       "<style scoped>\n",
       "    .dataframe tbody tr th:only-of-type {\n",
       "        vertical-align: middle;\n",
       "    }\n",
       "\n",
       "    .dataframe tbody tr th {\n",
       "        vertical-align: top;\n",
       "    }\n",
       "\n",
       "    .dataframe thead th {\n",
       "        text-align: right;\n",
       "    }\n",
       "</style>\n",
       "<table border=\"1\" class=\"dataframe\">\n",
       "  <thead>\n",
       "    <tr style=\"text-align: right;\">\n",
       "      <th></th>\n",
       "      <th>ranking</th>\n",
       "      <th>municipio</th>\n",
       "      <th>uf</th>\n",
       "      <th>populacao</th>\n",
       "    </tr>\n",
       "  </thead>\n",
       "  <tbody>\n",
       "    <tr>\n",
       "      <th>0</th>\n",
       "      <td>1</td>\n",
       "      <td>São Paulo</td>\n",
       "      <td>São Paulo</td>\n",
       "      <td>11 451 999</td>\n",
       "    </tr>\n",
       "    <tr>\n",
       "      <th>1</th>\n",
       "      <td>2</td>\n",
       "      <td>Rio de Janeiro</td>\n",
       "      <td>Rio de Janeiro</td>\n",
       "      <td>6 211 223</td>\n",
       "    </tr>\n",
       "    <tr>\n",
       "      <th>2</th>\n",
       "      <td>3</td>\n",
       "      <td>Brasília</td>\n",
       "      <td>Distrito Federal</td>\n",
       "      <td>2 817 381</td>\n",
       "    </tr>\n",
       "    <tr>\n",
       "      <th>3</th>\n",
       "      <td>4</td>\n",
       "      <td>Fortaleza</td>\n",
       "      <td>Ceará</td>\n",
       "      <td>2 428 708</td>\n",
       "    </tr>\n",
       "    <tr>\n",
       "      <th>4</th>\n",
       "      <td>5</td>\n",
       "      <td>Salvador</td>\n",
       "      <td>Bahia</td>\n",
       "      <td>2 417 678</td>\n",
       "    </tr>\n",
       "    <tr>\n",
       "      <th>5</th>\n",
       "      <td>6</td>\n",
       "      <td>Belo Horizonte</td>\n",
       "      <td>Minas Gerais</td>\n",
       "      <td>2 315 560</td>\n",
       "    </tr>\n",
       "    <tr>\n",
       "      <th>6</th>\n",
       "      <td>7</td>\n",
       "      <td>Manaus</td>\n",
       "      <td>Amazonas</td>\n",
       "      <td>2 063 689</td>\n",
       "    </tr>\n",
       "    <tr>\n",
       "      <th>7</th>\n",
       "      <td>8</td>\n",
       "      <td>Curitiba</td>\n",
       "      <td>Paraná</td>\n",
       "      <td>1 773 718</td>\n",
       "    </tr>\n",
       "    <tr>\n",
       "      <th>8</th>\n",
       "      <td>9</td>\n",
       "      <td>Recife</td>\n",
       "      <td>Pernambuco</td>\n",
       "      <td>1 488 920</td>\n",
       "    </tr>\n",
       "    <tr>\n",
       "      <th>9</th>\n",
       "      <td>10</td>\n",
       "      <td>Goiânia</td>\n",
       "      <td>Goiás</td>\n",
       "      <td>1 437 366</td>\n",
       "    </tr>\n",
       "    <tr>\n",
       "      <th>10</th>\n",
       "      <td>11</td>\n",
       "      <td>Porto Alegre</td>\n",
       "      <td>Rio Grande do Sul</td>\n",
       "      <td>1 332 845</td>\n",
       "    </tr>\n",
       "    <tr>\n",
       "      <th>11</th>\n",
       "      <td>12</td>\n",
       "      <td>Belém</td>\n",
       "      <td>Pará</td>\n",
       "      <td>1 303 403</td>\n",
       "    </tr>\n",
       "    <tr>\n",
       "      <th>12</th>\n",
       "      <td>13</td>\n",
       "      <td>Guarulhos</td>\n",
       "      <td>São Paulo</td>\n",
       "      <td>1 291 771</td>\n",
       "    </tr>\n",
       "    <tr>\n",
       "      <th>13</th>\n",
       "      <td>14</td>\n",
       "      <td>Campinas</td>\n",
       "      <td>São Paulo</td>\n",
       "      <td>1 139 047</td>\n",
       "    </tr>\n",
       "    <tr>\n",
       "      <th>14</th>\n",
       "      <td>15</td>\n",
       "      <td>São Luís</td>\n",
       "      <td>Maranhão</td>\n",
       "      <td>1 037 775</td>\n",
       "    </tr>\n",
       "    <tr>\n",
       "      <th>15</th>\n",
       "      <td>16</td>\n",
       "      <td>Maceió</td>\n",
       "      <td>Alagoas</td>\n",
       "      <td>957 916</td>\n",
       "    </tr>\n",
       "    <tr>\n",
       "      <th>16</th>\n",
       "      <td>17</td>\n",
       "      <td>Campo Grande</td>\n",
       "      <td>Mato Grosso do Sul</td>\n",
       "      <td>898 100</td>\n",
       "    </tr>\n",
       "    <tr>\n",
       "      <th>17</th>\n",
       "      <td>18</td>\n",
       "      <td>São Gonçalo</td>\n",
       "      <td>Rio de Janeiro</td>\n",
       "      <td>896 744</td>\n",
       "    </tr>\n",
       "    <tr>\n",
       "      <th>18</th>\n",
       "      <td>19</td>\n",
       "      <td>Teresina</td>\n",
       "      <td>Piauí</td>\n",
       "      <td>866 300</td>\n",
       "    </tr>\n",
       "    <tr>\n",
       "      <th>19</th>\n",
       "      <td>20</td>\n",
       "      <td>João Pessoa</td>\n",
       "      <td>Paraíba</td>\n",
       "      <td>833 932</td>\n",
       "    </tr>\n",
       "  </tbody>\n",
       "</table>\n",
       "</div>"
      ],
      "text/plain": [
       "    ranking       municipio                  uf   populacao\n",
       "0         1       São Paulo           São Paulo  11 451 999\n",
       "1         2  Rio de Janeiro      Rio de Janeiro   6 211 223\n",
       "2         3        Brasília    Distrito Federal   2 817 381\n",
       "3         4       Fortaleza               Ceará   2 428 708\n",
       "4         5        Salvador               Bahia   2 417 678\n",
       "5         6  Belo Horizonte        Minas Gerais   2 315 560\n",
       "6         7          Manaus            Amazonas   2 063 689\n",
       "7         8        Curitiba              Paraná   1 773 718\n",
       "8         9          Recife          Pernambuco   1 488 920\n",
       "9        10         Goiânia               Goiás   1 437 366\n",
       "10       11    Porto Alegre   Rio Grande do Sul   1 332 845\n",
       "11       12           Belém                Pará   1 303 403\n",
       "12       13       Guarulhos           São Paulo   1 291 771\n",
       "13       14        Campinas           São Paulo   1 139 047\n",
       "14       15        São Luís            Maranhão   1 037 775\n",
       "15       16          Maceió             Alagoas     957 916\n",
       "16       17    Campo Grande  Mato Grosso do Sul     898 100\n",
       "17       18     São Gonçalo      Rio de Janeiro     896 744\n",
       "18       19        Teresina               Piauí     866 300\n",
       "19       20     João Pessoa             Paraíba     833 932"
      ]
     },
     "execution_count": 7,
     "metadata": {},
     "output_type": "execute_result"
    }
   ],
   "source": [
    "dados_populacao[:20] "
   ]
  },
  {
   "cell_type": "code",
   "execution_count": 8,
   "id": "e19342b8-ab74-45b6-b650-4a0870f44693",
   "metadata": {},
   "outputs": [
    {
     "data": {
      "text/plain": [
       "ranking       int64\n",
       "municipio    object\n",
       "uf           object\n",
       "populacao    object\n",
       "dtype: object"
      ]
     },
     "execution_count": 8,
     "metadata": {},
     "output_type": "execute_result"
    }
   ],
   "source": [
    "dados_populacao.dtypes"
   ]
  },
  {
   "cell_type": "code",
   "execution_count": 9,
   "id": "1a0613c3-2a41-4640-b6bf-06a615aa2283",
   "metadata": {},
   "outputs": [
    {
     "data": {
      "text/html": [
       "<div>\n",
       "<style scoped>\n",
       "    .dataframe tbody tr th:only-of-type {\n",
       "        vertical-align: middle;\n",
       "    }\n",
       "\n",
       "    .dataframe tbody tr th {\n",
       "        vertical-align: top;\n",
       "    }\n",
       "\n",
       "    .dataframe thead th {\n",
       "        text-align: right;\n",
       "    }\n",
       "</style>\n",
       "<table border=\"1\" class=\"dataframe\">\n",
       "  <thead>\n",
       "    <tr style=\"text-align: right;\">\n",
       "      <th></th>\n",
       "      <th>ranking</th>\n",
       "      <th>municipio</th>\n",
       "      <th>uf</th>\n",
       "      <th>populacao</th>\n",
       "    </tr>\n",
       "  </thead>\n",
       "  <tbody>\n",
       "    <tr>\n",
       "      <th>0</th>\n",
       "      <td>1</td>\n",
       "      <td>São Paulo</td>\n",
       "      <td>São Paulo</td>\n",
       "      <td>11451999</td>\n",
       "    </tr>\n",
       "    <tr>\n",
       "      <th>1</th>\n",
       "      <td>2</td>\n",
       "      <td>Rio de Janeiro</td>\n",
       "      <td>Rio de Janeiro</td>\n",
       "      <td>6211223</td>\n",
       "    </tr>\n",
       "    <tr>\n",
       "      <th>2</th>\n",
       "      <td>3</td>\n",
       "      <td>Brasília</td>\n",
       "      <td>Distrito Federal</td>\n",
       "      <td>2817381</td>\n",
       "    </tr>\n",
       "    <tr>\n",
       "      <th>3</th>\n",
       "      <td>4</td>\n",
       "      <td>Fortaleza</td>\n",
       "      <td>Ceará</td>\n",
       "      <td>2428708</td>\n",
       "    </tr>\n",
       "    <tr>\n",
       "      <th>4</th>\n",
       "      <td>5</td>\n",
       "      <td>Salvador</td>\n",
       "      <td>Bahia</td>\n",
       "      <td>2417678</td>\n",
       "    </tr>\n",
       "    <tr>\n",
       "      <th>...</th>\n",
       "      <td>...</td>\n",
       "      <td>...</td>\n",
       "      <td>...</td>\n",
       "      <td>...</td>\n",
       "    </tr>\n",
       "    <tr>\n",
       "      <th>314</th>\n",
       "      <td>315</td>\n",
       "      <td>Manacapuru</td>\n",
       "      <td>Amazonas</td>\n",
       "      <td>101883</td>\n",
       "    </tr>\n",
       "    <tr>\n",
       "      <th>315</th>\n",
       "      <td>316</td>\n",
       "      <td>Balsas</td>\n",
       "      <td>Maranhão</td>\n",
       "      <td>101767</td>\n",
       "    </tr>\n",
       "    <tr>\n",
       "      <th>316</th>\n",
       "      <td>317</td>\n",
       "      <td>Lagarto</td>\n",
       "      <td>Sergipe</td>\n",
       "      <td>101579</td>\n",
       "    </tr>\n",
       "    <tr>\n",
       "      <th>317</th>\n",
       "      <td>318</td>\n",
       "      <td>Assis</td>\n",
       "      <td>São Paulo</td>\n",
       "      <td>101409</td>\n",
       "    </tr>\n",
       "    <tr>\n",
       "      <th>318</th>\n",
       "      <td>319</td>\n",
       "      <td>Itaperuna</td>\n",
       "      <td>Rio de Janeiro</td>\n",
       "      <td>101041</td>\n",
       "    </tr>\n",
       "  </tbody>\n",
       "</table>\n",
       "<p>319 rows × 4 columns</p>\n",
       "</div>"
      ],
      "text/plain": [
       "     ranking       municipio                uf  populacao\n",
       "0          1       São Paulo         São Paulo   11451999\n",
       "1          2  Rio de Janeiro    Rio de Janeiro    6211223\n",
       "2          3        Brasília  Distrito Federal    2817381\n",
       "3          4       Fortaleza             Ceará    2428708\n",
       "4          5        Salvador             Bahia    2417678\n",
       "..       ...             ...               ...        ...\n",
       "314      315      Manacapuru          Amazonas     101883\n",
       "315      316          Balsas          Maranhão     101767\n",
       "316      317         Lagarto           Sergipe     101579\n",
       "317      318           Assis         São Paulo     101409\n",
       "318      319       Itaperuna    Rio de Janeiro     101041\n",
       "\n",
       "[319 rows x 4 columns]"
      ]
     },
     "execution_count": 9,
     "metadata": {},
     "output_type": "execute_result"
    }
   ],
   "source": [
    "# Limpando os dados: removendo espaços em branco e convertendo a população para inteiro\n",
    "dados_populacao['populacao'] = dados_populacao['populacao'].str.replace(r'\\s', '', regex=True).astype(int)\n",
    "dados_populacao"
   ]
  },
  {
   "cell_type": "markdown",
   "id": "53295ba9-626f-4e1a-aa5a-395fcfca26d0",
   "metadata": {},
   "source": [
    "## Calculando o Desvio Padrão"
   ]
  },
  {
   "cell_type": "code",
   "execution_count": 11,
   "id": "fce414c1-ce0b-478c-a7b6-0dc13fc86ea3",
   "metadata": {},
   "outputs": [],
   "source": [
    "# Calculando as medidas estatísticas do conjunto completo\n",
    "media_total = dados_populacao['populacao'].mean()\n",
    "mediana_total = dados_populacao['populacao'].median()\n",
    "desvio_padrao = dados_populacao['populacao'].std()"
   ]
  },
  {
   "cell_type": "code",
   "execution_count": 12,
   "id": "0964dde8-f94b-46ab-ad15-389de58ecc43",
   "metadata": {},
   "outputs": [
    {
     "name": "stdout",
     "output_type": "stream",
     "text": [
      "Média (todas as cidades): 362,520\n",
      "Mediana (todas as cidades): 187,315\n",
      "Desvio Padrão: 792,867\n"
     ]
    }
   ],
   "source": [
    "print(f'Média (todas as cidades): {media_total:,.0f}')\n",
    "print(f'Mediana (todas as cidades): {mediana_total:,.0f}')\n",
    "print(f'Desvio Padrão: {desvio_padrao:,.0f}')"
   ]
  },
  {
   "cell_type": "markdown",
   "id": "d0484657-68da-4662-bc5e-20baaa617dbb",
   "metadata": {},
   "source": [
    "## Filtrando Valores Externos"
   ]
  },
  {
   "cell_type": "code",
   "execution_count": 14,
   "id": "373f855f-f0d3-4348-95e8-eacf6399f6bc",
   "metadata": {},
   "outputs": [
    {
     "name": "stdout",
     "output_type": "stream",
     "text": [
      "Removendo cidades com população fora do intervalo [-1,223,214, 1,948,254]\n"
     ]
    }
   ],
   "source": [
    "# Definindo limites para exclusão de valores extremos (outliers)\n",
    "limite_superior = media_total + 2*desvio_padrao\n",
    "limite_inferior = media_total - 2*desvio_padrao\n",
    "\n",
    "print(f'Removendo cidades com população fora do intervalo [{limite_inferior:,.0f}, {limite_superior:,.0f}]')"
   ]
  },
  {
   "cell_type": "code",
   "execution_count": 15,
   "id": "6f4e7e45-271b-4fe7-bce5-95ade111ebf7",
   "metadata": {},
   "outputs": [],
   "source": [
    "# Filtrando os dados para remover os outliers\n",
    "dados_populacao_reduzido = dados_populacao[\n",
    "    (dados_populacao['populacao'] >= limite_inferior) & \n",
    "    (dados_populacao['populacao'] <= limite_superior)\n",
    "]"
   ]
  },
  {
   "cell_type": "markdown",
   "id": "a16151ad-8ef7-47b4-81b6-dd213d62ca2d",
   "metadata": {},
   "source": [
    "## Calculando Medidas para o novo Conjunto"
   ]
  },
  {
   "cell_type": "code",
   "execution_count": 17,
   "id": "6e4945ee-7d38-48eb-afd4-4b187274b10a",
   "metadata": {},
   "outputs": [],
   "source": [
    "media_reduzido = dados_populacao_reduzido['populacao'].mean()\n",
    "mediana_reduzido = dados_populacao_reduzido['populacao'].median()"
   ]
  },
  {
   "cell_type": "code",
   "execution_count": 18,
   "id": "8dfba2be-63ef-495b-9c7f-f0aa7541690e",
   "metadata": {},
   "outputs": [
    {
     "name": "stdout",
     "output_type": "stream",
     "text": [
      "\n",
      "Após remoção dos outliers:\n",
      "Média (dados filtrados): 275,441\n",
      "Mediana (dados filtrados): 183,004\n"
     ]
    }
   ],
   "source": [
    "print(f'\\nApós remoção dos outliers:')\n",
    "print(f'Média (dados filtrados): {media_reduzido:,.0f}')\n",
    "print(f'Mediana (dados filtrados): {mediana_reduzido:,.0f}')"
   ]
  },
  {
   "cell_type": "code",
   "execution_count": 19,
   "id": "d2f279f2-f491-4c84-883c-9edf3fb75721",
   "metadata": {},
   "outputs": [],
   "source": [
    "# Cálculo da moda das Unidades Federativas (UFs)\n",
    "moda_uf = dados_populacao_reduzido['uf'].mode()[0]\n",
    "contagem_uf = dados_populacao_reduzido['uf'].value_counts()"
   ]
  },
  {
   "cell_type": "code",
   "execution_count": 20,
   "id": "d64d9c97-7c4e-404e-b93a-327cf4aad1cf",
   "metadata": {},
   "outputs": [
    {
     "name": "stdout",
     "output_type": "stream",
     "text": [
      "\n",
      "Moda das UFs: São Paulo\n",
      "\n",
      "Contagem de cidades por UF (após filtragem):\n",
      "uf\n",
      "São Paulo              77\n",
      "Minas Gerais           33\n",
      "Rio de Janeiro         27\n",
      "Paraná                 22\n",
      "Rio Grande do Sul      19\n",
      "Bahia                  17\n",
      "Pará                   15\n",
      "Goiás                  15\n",
      "Santa Catarina         14\n",
      "Pernambuco             12\n",
      "Maranhão               10\n",
      "Espírito Santo          9\n",
      "Ceará                   7\n",
      "Mato Grosso             6\n",
      "Sergipe                 4\n",
      "Paraíba                 4\n",
      "Rio Grande do Norte     4\n",
      "Mato Grosso do Sul      3\n",
      "Piauí                   2\n",
      "Rondônia                2\n",
      "Amapá                   2\n",
      "Alagoas                 2\n",
      "Tocantins               2\n",
      "Amazonas                2\n",
      "Roraima                 1\n",
      "Acre                    1\n",
      "Name: count, dtype: int64\n"
     ]
    }
   ],
   "source": [
    "print(f'\\nModa das UFs: {moda_uf}')\n",
    "print('\\nContagem de cidades por UF (após filtragem):')\n",
    "print(contagem_uf)"
   ]
  },
  {
   "cell_type": "code",
   "execution_count": null,
   "id": "1538dbaf-da3d-4663-9355-71aea6c5dcb8",
   "metadata": {},
   "outputs": [],
   "source": []
  }
 ],
 "metadata": {
  "kernelspec": {
   "display_name": "Python [conda env:base] *",
   "language": "python",
   "name": "conda-base-py"
  },
  "language_info": {
   "codemirror_mode": {
    "name": "ipython",
    "version": 3
   },
   "file_extension": ".py",
   "mimetype": "text/x-python",
   "name": "python",
   "nbconvert_exporter": "python",
   "pygments_lexer": "ipython3",
   "version": "3.12.7"
  }
 },
 "nbformat": 4,
 "nbformat_minor": 5
}
